{
 "cells": [
  {
   "cell_type": "markdown",
   "id": "99af7aa1",
   "metadata": {},
   "source": [
    "# Tutorial for `musiF`\n",
    "\n",
    "`musiF` is a python library to analyse music scores. It is a tool to massively extract features from MusicXML and Musescore files. \n",
    "\n",
    "`musiF` was born in the context of the [Didone Project](https://didone.eu/) and, consequently,\n",
    "it is specialized in a 18th Century Italian Operas arias. However, it is likely helpful for the analysis intended to work in other repertoires as well.\n",
    "\n",
    "## Installation\n",
    "\n",
    "First, you should install Python > 3.10. We reccommend to use virtualenvs while you develop, so that you do not interfer with the other Python applications installed in your system.\n",
    "\n",
    "An easy way to do this is by using [`anaconda`](https://www.anaconda.com/products/distribution), especially if you are not used to commandline interface. Alternatively, you can use more standard methods such Python's `virtualenv` module, `pyenv`, `poetry`, `pdm`, and similar.\n",
    "\n",
    "In any case, to install, just use `pip install musif` from a command line inside your virtualenv.\n",
    "You can also use a jupyer notebook or console and the `!` special command:"
   ]
  },
  {
   "cell_type": "code",
   "execution_count": 3,
   "id": "0646f1a9",
   "metadata": {},
   "outputs": [
    {
     "name": "stdout",
     "output_type": "stream",
     "text": [
      "Defaulting to user installation because normal site-packages is not writeable\n",
      "Obtaining file:///home/federico/musiF\n",
      "  Installing build dependencies ... \u001b[?25ldone\n",
      "\u001b[?25h  Checking if build backend supports build_editable ... \u001b[?25ldone\n",
      "\u001b[?25h  Getting requirements to build editable ... \u001b[?25ldone\n",
      "\u001b[?25h  Preparing editable metadata (pyproject.toml) ... \u001b[?25ldone\n",
      "\u001b[?25hRequirement already satisfied: joblib>=1.0.0 in /home/federico/.local/lib/python3.10/site-packages (from musif==0.1.0) (1.2.0)\n",
      "Requirement already satisfied: pyyaml>=5.4.1 in /usr/lib/python3.10/site-packages (from musif==0.1.0) (6.0)\n",
      "Requirement already satisfied: ms3>=0.4.10 in /home/federico/.local/lib/python3.10/site-packages (from musif==0.1.0) (1.0.2)\n",
      "Requirement already satisfied: music21<9,>=8 in /home/federico/.local/lib/python3.10/site-packages (from musif==0.1.0) (8.1.0)\n",
      "Requirement already satisfied: openpyxl>=3.0.6 in /home/federico/.local/lib/python3.10/site-packages (from musif==0.1.0) (3.0.10)\n",
      "Requirement already satisfied: pandas>=1.3.3 in /home/federico/.local/lib/python3.10/site-packages (from musif==0.1.0) (1.5.2)\n",
      "Requirement already satisfied: roman>=3.3 in /home/federico/.local/lib/python3.10/site-packages (from musif==0.1.0) (3.3)\n",
      "Requirement already satisfied: tqdm>=4.56.0 in /home/federico/.local/lib/python3.10/site-packages (from musif==0.1.0) (4.64.1)\n",
      "Requirement already satisfied: matplotlib>=3.3.4 in /home/federico/.local/lib/python3.10/site-packages (from musif==0.1.0) (3.6.2)\n",
      "Requirement already satisfied: scipy>=1.6.0 in /home/federico/.local/lib/python3.10/site-packages (from musif==0.1.0) (1.9.3)\n",
      "Requirement already satisfied: deepdiff>=6.2.1 in /home/federico/.local/lib/python3.10/site-packages (from musif==0.1.0) (6.2.2)\n",
      "Requirement already satisfied: ordered-set<4.2.0,>=4.0.2 in /usr/lib/python3.10/site-packages (from deepdiff>=6.2.1->musif==0.1.0) (4.1.0)\n",
      "Requirement already satisfied: kiwisolver>=1.0.1 in /home/federico/.local/lib/python3.10/site-packages (from matplotlib>=3.3.4->musif==0.1.0) (1.4.4)\n",
      "Requirement already satisfied: contourpy>=1.0.1 in /home/federico/.local/lib/python3.10/site-packages (from matplotlib>=3.3.4->musif==0.1.0) (1.0.6)\n",
      "Requirement already satisfied: cycler>=0.10 in /home/federico/.local/lib/python3.10/site-packages (from matplotlib>=3.3.4->musif==0.1.0) (0.11.0)\n",
      "Requirement already satisfied: numpy>=1.19 in /usr/lib/python3.10/site-packages (from matplotlib>=3.3.4->musif==0.1.0) (1.23.5)\n",
      "Requirement already satisfied: python-dateutil>=2.7 in /home/federico/.local/lib/python3.10/site-packages (from matplotlib>=3.3.4->musif==0.1.0) (2.8.2)\n",
      "Requirement already satisfied: pillow>=6.2.0 in /usr/lib/python3.10/site-packages (from matplotlib>=3.3.4->musif==0.1.0) (9.3.0)\n",
      "Requirement already satisfied: fonttools>=4.22.0 in /home/federico/.local/lib/python3.10/site-packages (from matplotlib>=3.3.4->musif==0.1.0) (4.38.0)\n",
      "Requirement already satisfied: packaging>=20.0 in /usr/lib/python3.10/site-packages (from matplotlib>=3.3.4->musif==0.1.0) (21.3)\n",
      "Requirement already satisfied: pyparsing>=2.2.1 in /usr/lib/python3.10/site-packages (from matplotlib>=3.3.4->musif==0.1.0) (3.0.9)\n",
      "Requirement already satisfied: lxml in /usr/lib/python3.10/site-packages (from ms3>=0.4.10->musif==0.1.0) (4.9.1)\n",
      "Requirement already satisfied: pytablewriter in /home/federico/.local/lib/python3.10/site-packages (from ms3>=0.4.10->musif==0.1.0) (0.64.2)\n",
      "Requirement already satisfied: GitPython in /home/federico/.local/lib/python3.10/site-packages (from ms3>=0.4.10->musif==0.1.0) (3.1.29)\n",
      "Requirement already satisfied: beautifulsoup4 in /home/federico/.local/lib/python3.10/site-packages (from ms3>=0.4.10->musif==0.1.0) (4.11.1)\n",
      "Requirement already satisfied: pathos in /home/federico/.local/lib/python3.10/site-packages (from ms3>=0.4.10->musif==0.1.0) (0.3.0)\n",
      "Requirement already satisfied: webcolors in /home/federico/.local/lib/python3.10/site-packages (from ms3>=0.4.10->musif==0.1.0) (1.12)\n",
      "Requirement already satisfied: more-itertools in /usr/lib/python3.10/site-packages (from music21<9,>=8->musif==0.1.0) (9.0.0)\n",
      "Requirement already satisfied: chardet in /usr/lib/python3.10/site-packages (from music21<9,>=8->musif==0.1.0) (5.1.0)\n",
      "Requirement already satisfied: jsonpickle in /home/federico/.local/lib/python3.10/site-packages (from music21<9,>=8->musif==0.1.0) (3.0.0)\n",
      "Requirement already satisfied: requests in /usr/lib/python3.10/site-packages (from music21<9,>=8->musif==0.1.0) (2.28.1)\n",
      "Requirement already satisfied: et-xmlfile in /home/federico/.local/lib/python3.10/site-packages (from openpyxl>=3.0.6->musif==0.1.0) (1.1.0)\n",
      "Requirement already satisfied: pytz>=2020.1 in /home/federico/.local/lib/python3.10/site-packages (from pandas>=1.3.3->musif==0.1.0) (2022.6)\n",
      "Requirement already satisfied: six>=1.5 in /usr/lib/python3.10/site-packages (from python-dateutil>=2.7->matplotlib>=3.3.4->musif==0.1.0) (1.16.0)\n",
      "Requirement already satisfied: soupsieve>1.2 in /home/federico/.local/lib/python3.10/site-packages (from beautifulsoup4->ms3>=0.4.10->musif==0.1.0) (2.3.2.post1)\n",
      "Requirement already satisfied: gitdb<5,>=4.0.1 in /home/federico/.local/lib/python3.10/site-packages (from GitPython->ms3>=0.4.10->musif==0.1.0) (4.0.10)\n",
      "Requirement already satisfied: multiprocess>=0.70.14 in /home/federico/.local/lib/python3.10/site-packages (from pathos->ms3>=0.4.10->musif==0.1.0) (0.70.14)\n",
      "Requirement already satisfied: pox>=0.3.2 in /home/federico/.local/lib/python3.10/site-packages (from pathos->ms3>=0.4.10->musif==0.1.0) (0.3.2)\n",
      "Requirement already satisfied: dill>=0.3.6 in /home/federico/.local/lib/python3.10/site-packages (from pathos->ms3>=0.4.10->musif==0.1.0) (0.3.6)\n",
      "Requirement already satisfied: ppft>=1.7.6.6 in /home/federico/.local/lib/python3.10/site-packages (from pathos->ms3>=0.4.10->musif==0.1.0) (1.7.6.6)\n",
      "Requirement already satisfied: setuptools>=38.3.0 in /usr/lib/python3.10/site-packages (from pytablewriter->ms3>=0.4.10->musif==0.1.0) (65.6.3)\n",
      "Requirement already satisfied: DataProperty<2,>=0.55.0 in /home/federico/.local/lib/python3.10/site-packages (from pytablewriter->ms3>=0.4.10->musif==0.1.0) (0.55.0)\n",
      "Requirement already satisfied: pathvalidate<3,>=2.3.0 in /home/federico/.local/lib/python3.10/site-packages (from pytablewriter->ms3>=0.4.10->musif==0.1.0) (2.5.2)\n",
      "Requirement already satisfied: typepy[datetime]<2,>=1.2.0 in /home/federico/.local/lib/python3.10/site-packages (from pytablewriter->ms3>=0.4.10->musif==0.1.0) (1.3.0)\n",
      "Requirement already satisfied: mbstrdecoder<2,>=1.0.0 in /home/federico/.local/lib/python3.10/site-packages (from pytablewriter->ms3>=0.4.10->musif==0.1.0) (1.1.1)\n",
      "Requirement already satisfied: tcolorpy<1,>=0.0.5 in /home/federico/.local/lib/python3.10/site-packages (from pytablewriter->ms3>=0.4.10->musif==0.1.0) (0.1.2)\n",
      "Requirement already satisfied: tabledata<2,>=1.3.0 in /home/federico/.local/lib/python3.10/site-packages (from pytablewriter->ms3>=0.4.10->musif==0.1.0) (1.3.0)\n",
      "Requirement already satisfied: idna<4,>=2.5 in /usr/lib/python3.10/site-packages (from requests->music21<9,>=8->musif==0.1.0) (3.4)\n",
      "Requirement already satisfied: urllib3<1.27,>=1.21.1 in /usr/lib/python3.10/site-packages (from requests->music21<9,>=8->musif==0.1.0) (1.26.12)\n",
      "Requirement already satisfied: smmap<6,>=3.0.1 in /home/federico/.local/lib/python3.10/site-packages (from gitdb<5,>=4.0.1->GitPython->ms3>=0.4.10->musif==0.1.0) (5.0.0)\n",
      "Requirement already satisfied: appdirs in /usr/lib/python3.10/site-packages (from setuptools>=38.3.0->pytablewriter->ms3>=0.4.10->musif==0.1.0) (1.4.4)\n",
      "Requirement already satisfied: jaraco.text in /usr/lib/python3.10/site-packages (from setuptools>=38.3.0->pytablewriter->ms3>=0.4.10->musif==0.1.0) (3.11.0)\n",
      "Requirement already satisfied: tomli in /usr/lib/python3.10/site-packages (from setuptools>=38.3.0->pytablewriter->ms3>=0.4.10->musif==0.1.0) (2.0.1)\n",
      "Requirement already satisfied: validate-pyproject in /usr/lib/python3.10/site-packages (from setuptools>=38.3.0->pytablewriter->ms3>=0.4.10->musif==0.1.0) (0.10.1)\n",
      "Requirement already satisfied: jaraco.context>=4.1 in /usr/lib/python3.10/site-packages (from jaraco.text->setuptools>=38.3.0->pytablewriter->ms3>=0.4.10->musif==0.1.0) (4.2.0)\n",
      "Requirement already satisfied: jaraco.functools in /usr/lib/python3.10/site-packages (from jaraco.text->setuptools>=38.3.0->pytablewriter->ms3>=0.4.10->musif==0.1.0) (3.5.2)\n",
      "Requirement already satisfied: autocommand in /usr/lib/python3.10/site-packages (from jaraco.text->setuptools>=38.3.0->pytablewriter->ms3>=0.4.10->musif==0.1.0) (2.2.2)\n",
      "Requirement already satisfied: inflect in /usr/lib/python3.10/site-packages (from jaraco.text->setuptools>=38.3.0->pytablewriter->ms3>=0.4.10->musif==0.1.0) (6.0.2)\n"
     ]
    },
    {
     "name": "stdout",
     "output_type": "stream",
     "text": [
      "Requirement already satisfied: pydantic>=1.9.1 in /usr/lib/python3.10/site-packages (from inflect->jaraco.text->setuptools>=38.3.0->pytablewriter->ms3>=0.4.10->musif==0.1.0) (1.10.2)\n",
      "Requirement already satisfied: typing-extensions>=4.1.0 in /usr/lib/python3.10/site-packages (from pydantic>=1.9.1->inflect->jaraco.text->setuptools>=38.3.0->pytablewriter->ms3>=0.4.10->musif==0.1.0) (4.4.0)\n",
      "Building wheels for collected packages: musif\n",
      "  Building editable for musif (pyproject.toml) ... \u001b[?25ldone\n",
      "\u001b[?25h  Created wheel for musif: filename=musif-0.1.0-py3-none-any.whl size=1942 sha256=5d9b75513a27d9fbf41247ea4b34dbbff16ec0a581f42271ba647f519f163917\n",
      "  Stored in directory: /tmp/pip-ephem-wheel-cache-5k4kxz2f/wheels/08/72/30/6571b1104767742a8ea5988dbe2b5fd94909695e1acad37732\n",
      "Successfully built musif\n",
      "Installing collected packages: musif\n",
      "  Attempting uninstall: musif\n",
      "    Found existing installation: musif 0.1.0\n",
      "    Uninstalling musif-0.1.0:\n",
      "      Successfully uninstalled musif-0.1.0\n",
      "Successfully installed musif-0.1.0\n"
     ]
    }
   ],
   "source": [
    "!pip install -e /home/federico/musiF # TODO: change to pip install musif"
   ]
  },
  {
   "cell_type": "markdown",
   "id": "922d2d05",
   "metadata": {},
   "source": [
    "Now, let's import it:"
   ]
  },
  {
   "cell_type": "code",
   "execution_count": 2,
   "id": "092f657b",
   "metadata": {},
   "outputs": [
    {
     "name": "stdout",
     "output_type": "stream",
     "text": [
      "0.1.0\n"
     ]
    }
   ],
   "source": [
    "import musif\n",
    "print(musif.__version__)"
   ]
  },
  {
   "cell_type": "markdown",
   "id": "cc75e9d4",
   "metadata": {},
   "source": [
    "## Introduction\n",
    "\n",
    "### If you are new to programming etc. read this\n",
    "\n",
    "If you are new to Python, we suggest you to read a tutorial for it.\n",
    "In the following, we will use some technical terminology. In general keep in mind the following:\n",
    "\n",
    "* a _function_ is a way to represent code that is convenient for humans. You can think about functions as the mathematical functions, with some input and some output. However, some programming languages call them _procedures_; this is not the case of Python, but this name allow grasp what functions are, after all: they are successions of commands that the computer has to execute.\n",
    "\n",
    "* an _object_ is a computational way to represent information in the memory of computers; you can think about objects as real concepts of the real world: object have properties (in Python named _fields_) and functionalities (named _methods_). For instance, an object could be a vehicle, which has some properties (length, maximum speed, number of wheels) and some functionalities (accelerate, decelerate, stop). Objects can also have specializations (named _children_): in our example, a child of vehicle could be the car and another child could be the bike: they have different properties and apply the functionalities in a different way. Both the vehicle, the car, and the bike may have instances: the car that you use everyady to go at work is different from the one of your friend even if they have the same exact properties, because they are two different concrete objects. Technically, those two cars are two _instances_ of the same _class_. To create an instance you have to call a function, which takes some argument such as the class, and other properties, and that will return the instance. To use `musiF`, you don't need to know a lot about objects, but while you search the web it is good to have a little of knowledge.\n",
    "\n",
    "* a _dataframe_ is another way to represent information for computers. They are designed to be extremely efficient, even if sometimes some aspect of the information can get lost, and for this reason are used for data science problems. You can think about a _dataframe_ as to a table, with rows and columns. Usually, rows are _instances_ while columns are _properties_. In data science, these words often become _samples_ and _features_/_variables_. A typical operation is to select only certain columns (properties) or only certain rows (instances) to select subset of the data or to modify the data itself.\n",
    "* don't be scared of using web search engines such as Google: searching the web in a proper way is one of the most important skills a programmer has!\n",
    "\n",
    "### Main objects\n",
    "\n",
    "When using `musif`, you will usually interface with two objects:\n",
    "1. [`FeaturesExtractor()`](API/musif.extract.html#musif.extract.extract.FeaturesExtractor), which read scores in MusicXML and MuseScore format and computes a Dataframe containing all the extracted features. In the simplest case, each row represents a music score, while each column represents a feature.\n",
    "2. [`DataProcessor()`](API/musif.process.html#musif.process.processor.DataProcessor), which takes the dataframe with all the features in it and post-processes it to clean, improve, and possibly modify some of the features.\n",
    "\n",
    "These two objects take as input two different configurations that modify their behaviour. In other words, the function that create the instances of `FeaturesExtractor` and `DataProcessor` can accept a wide range of arguments.\n",
    "\n",
    "But let's proceed step-by-step!"
   ]
  },
  {
   "cell_type": "markdown",
   "id": "ef34e72b",
   "metadata": {},
   "source": [
    "## Data\n",
    "\n",
    "For starting, downaload one or more of the following datasets:\n",
    "\n",
    "...\n",
    "\n",
    "You should put the MusicXML data under the `data` directory aside to this notebook!"
   ]
  },
  {
   "cell_type": "code",
   "execution_count": null,
   "id": "c6158b90",
   "metadata": {},
   "outputs": [],
   "source": []
  }
 ],
 "metadata": {
  "kernelspec": {
   "display_name": "Python 3 (ipykernel)",
   "language": "python",
   "name": "python3"
  },
  "language_info": {
   "codemirror_mode": {
    "name": "ipython",
    "version": 3
   },
   "file_extension": ".py",
   "mimetype": "text/x-python",
   "name": "python",
   "nbconvert_exporter": "python",
   "pygments_lexer": "ipython3",
   "version": "3.10.8"
  }
 },
 "nbformat": 4,
 "nbformat_minor": 5
}
